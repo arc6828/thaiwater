{
 "cells": [
  {
   "cell_type": "code",
   "execution_count": 22,
   "metadata": {},
   "outputs": [],
   "source": [
    "import urllib.request, json,codecs"
   ]
  },
  {
   "cell_type": "code",
   "execution_count": 23,
   "metadata": {},
   "outputs": [],
   "source": [
    "def getWaterLevelNowData(province_name=\"นครศรีธรรมราช\", amphoe_name=\"ทุ่งสง\"):\n",
    "    url = \"https://api-v3.thaiwater.net/api/v1/thaiwater30/public/waterlevel_load\"\n",
    "    with urllib.request.urlopen(url) as response:\n",
    "        data = json.loads(response.read())\n",
    "    data = data[\"waterlevel_data\"][\"data\"]\n",
    "    # data\n",
    "    len(data)\n",
    "    def thungsongFilter(item):\n",
    "        # print(item)\n",
    "        return (item[\"geocode\"][\"amphoe_name\"][\"th\"] == \"ทุ่งสง\") and (item[\"geocode\"][\"province_name\"][\"th\"] == \"นครศรีธรรมราช\" )\n",
    "        # return (item[\"geocode\"][\"province_name\"][\"th\"] == \"นครศรีธรรมราช\" )\n",
    "\n",
    "    thungsongData = filter(thungsongFilter,data)\n",
    "    thungsongData = list(thungsongData)\n",
    "    return thungsongData\n",
    "\n",
    "wl = getWaterLevelNowData(province_name=\"นครศรีธรรมราช\", amphoe_name=\"ทุ่งสง\")\n",
    "with codecs.open('data/now-wl.json', 'w', encoding='utf-8') as f:\n",
    "    json.dump(wl, f, ensure_ascii=False)"
   ]
  },
  {
   "cell_type": "code",
   "execution_count": 24,
   "metadata": {},
   "outputs": [],
   "source": [
    "def getRainNowData(province_name=\"นครศรีธรรมราช\", amphoe_name=\"ทุ่งสง\"):\n",
    "    url = \"https://api-v3.thaiwater.net/api/v1/thaiwater30/public/rain_24h\"\n",
    "    with urllib.request.urlopen(url) as response:\n",
    "        data = json.loads(response.read())\n",
    "    data = data[\"data\"]\n",
    "    # data\n",
    "    len(data)\n",
    "    def thungsongFilter(item):\n",
    "        # print(item)\n",
    "        return (item[\"geocode\"][\"amphoe_name\"][\"th\"] == \"ทุ่งสง\") and (item[\"geocode\"][\"province_name\"][\"th\"] == \"นครศรีธรรมราช\" )\n",
    "        # return (item[\"geocode\"][\"province_name\"][\"th\"] == \"นครศรีธรรมราช\" )\n",
    "\n",
    "    thungsongData = filter(thungsongFilter,data)\n",
    "    thungsongData = list(thungsongData)\n",
    "    return thungsongData\n",
    "\n",
    "rain = getRainNowData(province_name=\"นครศรีธรรมราช\", amphoe_name=\"ทุ่งสง\")\n",
    "with codecs.open('data/now-rain.json', 'w', encoding='utf-8') as f:\n",
    "    json.dump(rain, f, ensure_ascii=False)"
   ]
  }
 ],
 "metadata": {
  "kernelspec": {
   "display_name": "Python 3.9.13 ('thaiwater': venv)",
   "language": "python",
   "name": "python3"
  },
  "language_info": {
   "codemirror_mode": {
    "name": "ipython",
    "version": 3
   },
   "file_extension": ".py",
   "mimetype": "text/x-python",
   "name": "python",
   "nbconvert_exporter": "python",
   "pygments_lexer": "ipython3",
   "version": "3.9.13"
  },
  "orig_nbformat": 4,
  "vscode": {
   "interpreter": {
    "hash": "c2f3da5536e3c3bddbd7ce15bc33b2cfba6e901a6f32a79c119e4b259c6a3d3b"
   }
  }
 },
 "nbformat": 4,
 "nbformat_minor": 2
}
