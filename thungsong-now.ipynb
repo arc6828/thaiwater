{
 "cells": [
  {
   "attachments": {},
   "cell_type": "markdown",
   "metadata": {},
   "source": [
    "# Import"
   ]
  },
  {
   "cell_type": "code",
   "execution_count": 1,
   "metadata": {},
   "outputs": [],
   "source": [
    "import json,codecs\n",
    "import urllib.request\n",
    "import urllib.parse"
   ]
  },
  {
   "attachments": {},
   "cell_type": "markdown",
   "metadata": {},
   "source": [
    "# Function"
   ]
  },
  {
   "cell_type": "code",
   "execution_count": 2,
   "metadata": {},
   "outputs": [],
   "source": [
    "def getDataWaterLevelNow(province_name=\"นครศรีธรรมราช\", amphoe_name=\"ทุ่งสง\"):\n",
    "    url = \"https://api-v3.thaiwater.net/api/v1/thaiwater30/public/waterlevel_load\"\n",
    "    with urllib.request.urlopen(url) as response:\n",
    "        data = json.loads(response.read())\n",
    "    data = data[\"waterlevel_data\"][\"data\"]\n",
    "    # data\n",
    "    len(data)\n",
    "    def thungsongFilter(item):\n",
    "        # print(item)\n",
    "        return (item[\"geocode\"][\"amphoe_name\"][\"th\"] == \"ทุ่งสง\") and (item[\"geocode\"][\"province_name\"][\"th\"] == \"นครศรีธรรมราช\" )\n",
    "        # return (item[\"geocode\"][\"province_name\"][\"th\"] == \"นครศรีธรรมราช\" )\n",
    "\n",
    "    thungsongData = filter(thungsongFilter,data)\n",
    "    thungsongData = list(thungsongData)\n",
    "    return thungsongData\n",
    "\n"
   ]
  },
  {
   "cell_type": "code",
   "execution_count": 3,
   "metadata": {},
   "outputs": [],
   "source": [
    "def getDataRainNow(province_name=\"นครศรีธรรมราช\", amphoe_name=\"ทุ่งสง\"):\n",
    "    url = \"https://api-v3.thaiwater.net/api/v1/thaiwater30/public/rain_24h\"\n",
    "    with urllib.request.urlopen(url) as response:\n",
    "        data = json.loads(response.read())\n",
    "    data = data[\"data\"]\n",
    "    # data\n",
    "    len(data)\n",
    "    def thungsongFilter(item):\n",
    "        # print(item)\n",
    "        return (item[\"geocode\"][\"amphoe_name\"][\"th\"] == \"ทุ่งสง\") and (item[\"geocode\"][\"province_name\"][\"th\"] == \"นครศรีธรรมราช\" )\n",
    "        # return (item[\"geocode\"][\"province_name\"][\"th\"] == \"นครศรีธรรมราช\" )\n",
    "\n",
    "    thungsongData = filter(thungsongFilter,data)\n",
    "    thungsongData = list(thungsongData)\n",
    "    return thungsongData"
   ]
  },
  {
   "attachments": {},
   "cell_type": "markdown",
   "metadata": {},
   "source": [
    "# Usage"
   ]
  },
  {
   "cell_type": "code",
   "execution_count": 4,
   "metadata": {},
   "outputs": [
    {
     "name": "stdout",
     "output_type": "stream",
     "text": [
      "Write file data/now-wl.json\n",
      "Write file data/now-rain.json\n"
     ]
    }
   ],
   "source": [
    "wl = getDataWaterLevelNow(province_name=\"นครศรีธรรมราช\", amphoe_name=\"ทุ่งสง\")\n",
    "with codecs.open('data/now-wl.json', 'w', encoding='utf-8') as f:\n",
    "    json.dump(wl, f, ensure_ascii=False)\n",
    "    print(\"Write file data/now-wl.json\")\n",
    "\n",
    "rain = getDataRainNow(province_name=\"นครศรีธรรมราช\", amphoe_name=\"ทุ่งสง\")\n",
    "with codecs.open('data/now-rain.json', 'w', encoding='utf-8') as f:\n",
    "    json.dump(rain, f, ensure_ascii=False)    \n",
    "    print(\"Write file data/now-rain.json\")"
   ]
  }
 ],
 "metadata": {
  "kernelspec": {
   "display_name": "thaiwater_env",
   "language": "python",
   "name": "python3"
  },
  "language_info": {
   "codemirror_mode": {
    "name": "ipython",
    "version": 3
   },
   "file_extension": ".py",
   "mimetype": "text/x-python",
   "name": "python",
   "nbconvert_exporter": "python",
   "pygments_lexer": "ipython3",
   "version": "3.9.7"
  },
  "orig_nbformat": 4,
  "vscode": {
   "interpreter": {
    "hash": "44185f02c2642776341d52049fa43c283cf9bda75b909ced762c089ff6cd779f"
   }
  }
 },
 "nbformat": 4,
 "nbformat_minor": 2
}
